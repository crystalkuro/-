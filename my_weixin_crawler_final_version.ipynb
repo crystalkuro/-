{
 "cells": [
  {
   "cell_type": "code",
   "execution_count": 1,
   "metadata": {
    "collapsed": true
   },
   "outputs": [],
   "source": [
    "import json\n",
    "import requests\n",
    "import time\n",
    "import html\n",
    "from mongoengine import connect"
   ]
  },
  {
   "cell_type": "markdown",
   "metadata": {},
   "source": [
    "# 必要的工具函数"
   ]
  },
  {
   "cell_type": "code",
   "execution_count": 3,
   "metadata": {},
   "outputs": [],
   "source": [
    "#将headers参数转换成字典参数\n",
    "def str_to_dict(headers):\n",
    "    headers = headers.split(\"\\n\")\n",
    "    d_headers = {}\n",
    "    for h in headers:\n",
    "        k,v = h.split(':',1)\n",
    "        d_headers[k] = v.strip()\n",
    "    return d_headers\n",
    "    "
   ]
  },
  {
   "cell_type": "code",
   "execution_count": 4,
   "metadata": {
    "collapsed": true
   },
   "outputs": [],
   "source": [
    "#切割url获得sn、mid、idx参数\n",
    "def cut_params(url):\n",
    "    #目的是切割url获得sn、mid、idx参数\n",
    "    url = url.split(\"&\")\n",
    "    url_dict = {}\n",
    "    for item in url:\n",
    "        k,v = item.split('=' ,1)\n",
    "        url_dict[k] = v.strip()\n",
    "    url_params = {'sn': url_dict.get('amp;sn') , 'mid':url_dict.get('amp;mid'), 'idx':url_dict.get('amp;idx')}\n",
    "    return url_params"
   ]
  },
  {
   "cell_type": "markdown",
   "metadata": {},
   "source": [
    "# 建立数据库"
   ]
  },
  {
   "cell_type": "code",
   "execution_count": null,
   "metadata": {
    "collapsed": true
   },
   "outputs": [],
   "source": [
    "connect('weixin_all',host = 'localhost', port = 27017)"
   ]
  },
  {
   "cell_type": "code",
   "execution_count": null,
   "metadata": {
    "collapsed": true
   },
   "outputs": [],
   "source": [
    "from datetime import datetime\n",
    "\n",
    "from mongoengine import DateTimeField\n",
    "from mongoengine import Document\n",
    "from mongoengine import IntField\n",
    "from mongoengine import StringField\n",
    "from mongoengine import URLField\n",
    "from mongoengine import connect\n",
    "\n",
    "__author__ = \"DengYuan\"\n",
    "\n",
    "class Post(Document):\n",
    "    title = StringField() #文章标题\n",
    "    content_url = StringField() #文章链接\n",
    "    digest = StringField() #文章摘要\n",
    "    cover = URLField(validation = None) #文章封面\n",
    "    p_date = DateTimeField() #推送时间\n",
    "    \n",
    "    read_num = IntField(default = 0) #阅读数\n",
    "    like_num = IntField(default = 0) #点赞数\n",
    "    reward_num = IntField(default = None) #赞赏数\n",
    "    author = StringField() #作者\n",
    "    \n",
    "    c_date = DateTimeField(default = datetime.now) #数据生成时间\n",
    "    u_date = DateTimeField(default = datetime.now) #最后更新时间"
   ]
  },
  {
   "cell_type": "code",
   "execution_count": null,
   "metadata": {
    "collapsed": true
   },
   "outputs": [],
   "source": []
  },
  {
   "cell_type": "markdown",
   "metadata": {},
   "source": [
    "# 获取公众号的历史文章信息，并为下一步获取数据采集必要参数"
   ]
  },
  {
   "cell_type": "code",
   "execution_count": 5,
   "metadata": {},
   "outputs": [
    {
     "ename": "SyntaxError",
     "evalue": "invalid syntax (<ipython-input-5-799f97137fd7>, line 1)",
     "output_type": "error",
     "traceback": [
      "\u001b[1;36m  File \u001b[1;32m\"<ipython-input-5-799f97137fd7>\"\u001b[1;36m, line \u001b[1;32m1\u001b[0m\n\u001b[1;33m    url =\u001b[0m\n\u001b[1;37m          ^\u001b[0m\n\u001b[1;31mSyntaxError\u001b[0m\u001b[1;31m:\u001b[0m invalid syntax\n"
     ]
    }
   ],
   "source": [
    "url = \n",
    "headers = \n",
    "result = requests.get(url = url ,headers = headers , verify = False)\n",
    "result = result.json()\n",
    "if result.get('ret') == 0:\n",
    "    msg_list = result.get('general_msg_list')\n",
    "    msg_list = msg_list.replace('\\/','/')\n",
    "    data = json.loads(msg_list)\n",
    "    msg_list = data.get('list')\n",
    "    for msg in msg_list:\n",
    "        p_date = msg.get('comm_msg_info').get('datetime')\n",
    "        p_date = datetime.fromtimestamp(p_date)\n",
    "        if msg['app_msg_ext_info']:\n",
    "            \n",
    "    "
   ]
  },
  {
   "cell_type": "code",
   "execution_count": null,
   "metadata": {
    "collapsed": true
   },
   "outputs": [],
   "source": []
  }
 ],
 "metadata": {
  "kernelspec": {
   "display_name": "Python 3",
   "language": "python",
   "name": "python3"
  },
  "language_info": {
   "codemirror_mode": {
    "name": "ipython",
    "version": 3
   },
   "file_extension": ".py",
   "mimetype": "text/x-python",
   "name": "python",
   "nbconvert_exporter": "python",
   "pygments_lexer": "ipython3",
   "version": "3.6.3"
  }
 },
 "nbformat": 4,
 "nbformat_minor": 2
}
