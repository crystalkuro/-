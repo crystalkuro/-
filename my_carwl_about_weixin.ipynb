{
 "cells": [
  {
   "cell_type": "code",
   "execution_count": 1,
   "metadata": {
    "collapsed": true
   },
   "outputs": [],
   "source": [
    "import time\n",
    "import requests\n",
    "import json"
   ]
  },
  {
   "cell_type": "markdown",
   "metadata": {},
   "source": [
    "# **必要的工具函数放在这里**"
   ]
  },
  {
   "cell_type": "code",
   "execution_count": 2,
   "metadata": {
    "collapsed": true
   },
   "outputs": [],
   "source": [
    "def str_to_dict(headers):\n",
    "    ##将headers 的字符串转换城字典参数形式\n",
    "    headers = headers.split(\"\\n\")\n",
    "    d_headers = {}\n",
    "    for h in headers:\n",
    "        h = h.strip()\n",
    "        if h:\n",
    "            k,v = h.split(\":\",1)\n",
    "            d_headers[k] = v.strip()\n",
    "    return d_headers\n"
   ]
  },
  {
   "cell_type": "markdown",
   "metadata": {},
   "source": [
    "### 一些参数的请求 \n",
    "url : 目标url <br>\n",
    "headers ： 请求头，只包括自己的cookie和浏览器信息 <br>\n",
    "data : 请求body参数 <br>\n",
    "params : 文章参数和自己的请求参数 <br>"
   ]
  },
  {
   "cell_type": "code",
   "execution_count": null,
   "metadata": {
    "collapsed": true
   },
   "outputs": [],
   "source": []
  },
  {
   "cell_type": "code",
   "execution_count": 3,
   "metadata": {},
   "outputs": [
    {
     "name": "stdout",
     "output_type": "stream",
     "text": [
      "{'Cookie': 'devicetype=iOS11.4; lang=zh_CN; pass_ticket=JN5ZLztUoZSS5jwFkczT2IBPc5RVjnDMQGarG26HWZDoZsNkjh6m86Np0vDc5WSJ; rewardsn=; version=16070021; wap_sid2=CJCh3M4GElxfRjRqdFJzYnh2WlE5d0dubUhmdERSQzItUUEzNGlEMkYwUUxpd3FYSzFRaVBLZ2JyV1Y1VF9qSkpTTm1GNm82b2xDcmQ4V3pSWHR2RHk5S09hb1RuTU1EQUFBfjDNg9LZBTgNQAE=; wxtokenkey=777; wxuin=1775702160; pgv_pvid=4082748046; pgv_pvid_new=085e9858e0c1f7730407202b5@wx.tenpay.com_b6a1c632f1; ua_id=UVZRCr2em5i64aAiAAAAANfVgc9SH-Ghsyvj8mDolmw=; eas_sid=C135D281y6c4d6y5w012l3T6I7; gid=4b4af615-1a69-4508-9498-eede101c3374; _ga=GA1.2.1510627900.1516616463; pac_uid=0_5a65bb0ecfbe9; sd_cookie_crttime=1510555264485; sd_userid=731510555264485; pgv_pvi=6696382464', 'User-Agent': 'Mozilla/5.0 (Windows NT 6.1; WOW64) AppleWebKit/537.36 (KHTML, like Gecko) Chrome/39.0.2171.95 Safari/537.36 MicroMessenger/6.5.2.501 NetType/WIFI WindowsWechat QBCore/3.43.27.400 QQBrowser/9.0.2524.400'}\n"
     ]
    }
   ],
   "source": [
    "url = \"http://mp.weixin.qq.com/mp/getappmsgext\"\n",
    "headers = {\"Cookie\":\"devicetype=iOS11.4; lang=zh_CN; pass_ticket=JN5ZLztUoZSS5jwFkczT2IBPc5RVjnDMQGarG26HWZDoZsNkjh6m86Np0vDc5WSJ; rewardsn=; version=16070021; wap_sid2=CJCh3M4GElxfRjRqdFJzYnh2WlE5d0dubUhmdERSQzItUUEzNGlEMkYwUUxpd3FYSzFRaVBLZ2JyV1Y1VF9qSkpTTm1GNm82b2xDcmQ4V3pSWHR2RHk5S09hb1RuTU1EQUFBfjDNg9LZBTgNQAE=; wxtokenkey=777; wxuin=1775702160; pgv_pvid=4082748046; pgv_pvid_new=085e9858e0c1f7730407202b5@wx.tenpay.com_b6a1c632f1; ua_id=UVZRCr2em5i64aAiAAAAANfVgc9SH-Ghsyvj8mDolmw=; eas_sid=C135D281y6c4d6y5w012l3T6I7; gid=4b4af615-1a69-4508-9498-eede101c3374; _ga=GA1.2.1510627900.1516616463; pac_uid=0_5a65bb0ecfbe9; sd_cookie_crttime=1510555264485; sd_userid=731510555264485; pgv_pvi=6696382464\",\n",
    "\"User-Agent\": \"Mozilla/5.0 (Windows NT 6.1; WOW64) AppleWebKit/537.36 (KHTML, like Gecko) Chrome/39.0.2171.95 Safari/537.36 MicroMessenger/6.5.2.501 NetType/WIFI WindowsWechat QBCore/3.43.27.400 QQBrowser/9.0.2524.400\"\n",
    "          }\n",
    "data = {\n",
    "    \"is_only_read\": \"1\",\n",
    "    \"req_id\": \"2814tKLFsumYrALBI8w7gjkP\",\n",
    "    \"pass_ticket\": \"JN5ZLztUoZSS5jwFkczT2IBPc5RVjnDMQGarG26HWZDoZsNkjh6m86Np0vDc5WSJ\",\n",
    "    \"is_temp_url\": \"0\"\n",
    "}\n",
    "params = {\n",
    "    \"__biz\": \"MzI5NjM0NjY1NQ==\",\n",
    "    \"mid\":\"2247490046\",\n",
    "    \"sn\": \"7793b0f26afa2745d025e045e6778917\",\n",
    "    \"idx\": \"2\",\n",
    "    \"key\": \"777\",\n",
    "    \"pass_ticket\":\"JN5ZLztUoZSS5jwFkczT2IBPc5RVjnDMQGarG26HWZDoZsNkjh6m86Np0vDc5WSJ\",\n",
    "    \"appmsg_token\": \"963_37Y7VWJZqM2tL%2BqXVQSTn_3sO2wckGI7bqpIvMB9H03-jP1z5t7PDs6Dhjg_7PoJGTujJethGwnDsx8U\",\n",
    "\n",
    "}\n",
    "print(headers)"
   ]
  },
  {
   "cell_type": "markdown",
   "metadata": {},
   "source": [
    "### 使用post方法进行请求"
   ]
  },
  {
   "cell_type": "code",
   "execution_count": 4,
   "metadata": {
    "collapsed": true
   },
   "outputs": [],
   "source": [
    "content = requests.post(url = url, headers = headers, data = data, params = params)"
   ]
  },
  {
   "cell_type": "code",
   "execution_count": 5,
   "metadata": {},
   "outputs": [
    {
     "name": "stdout",
     "output_type": "stream",
     "text": [
      "{\"advertisement_info\":[],\"reward_head_imgs\":[]}\n"
     ]
    }
   ],
   "source": [
    "print(content.text)"
   ]
  },
  {
   "cell_type": "code",
   "execution_count": 6,
   "metadata": {},
   "outputs": [
    {
     "data": {
      "text/plain": [
       "str"
      ]
     },
     "execution_count": 6,
     "metadata": {},
     "output_type": "execute_result"
    }
   ],
   "source": [
    "type(content.text)"
   ]
  },
  {
   "cell_type": "code",
   "execution_count": null,
   "metadata": {
    "collapsed": true
   },
   "outputs": [],
   "source": []
  }
 ],
 "metadata": {
  "kernelspec": {
   "display_name": "Python 3",
   "language": "python",
   "name": "python3"
  },
  "language_info": {
   "codemirror_mode": {
    "name": "ipython",
    "version": 3
   },
   "file_extension": ".py",
   "mimetype": "text/x-python",
   "name": "python",
   "nbconvert_exporter": "python",
   "pygments_lexer": "ipython3",
   "version": "3.6.3"
  }
 },
 "nbformat": 4,
 "nbformat_minor": 2
}
